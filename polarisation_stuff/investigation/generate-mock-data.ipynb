{
 "cells": [
  {
   "cell_type": "code",
   "execution_count": 2,
   "metadata": {},
   "outputs": [],
   "source": [
    "import os\n",
    "import numpy as np\n",
    "\n",
    "import matplotlib\n",
    "import matplotlib.pyplot as plt\n",
    "from scipy import signal\n",
    "from IPython.display import HTML, display\n",
    "\n",
    "matplotlib.rcParams.update({'font.size':20, 'font.family':'DejaVu Sans'})"
   ]
  },
  {
   "cell_type": "code",
   "execution_count": 3,
   "metadata": {},
   "outputs": [],
   "source": [
    "def lambda_sq(center_freq: float, chan_width: float):\n",
    "    \"\"\"Equation 34\n",
    "    Calculate the lambda squared value\n",
    "    \"\"\"\n",
    "    lsq = (c**2 / center_freq**2) * \\\n",
    "        (1 + ( 0.75 * (chan_width/center_freq)**2))\n",
    "    return lsq\n",
    "\n",
    "\n",
    "def fpol(i, q, u):\n",
    "    lpol = q + u*1j\n",
    "    fpol = np.abs(lpol)/i\n",
    "    return fpol\n",
    "\n",
    "\n",
    "def lpol(q, u):\n",
    "    lpol = q + u*1j\n",
    "    return lpol\n",
    "\n",
    "\n",
    "def mkdir(dir):\n",
    "    if not os.path.isdir(dir):\n",
    "        os.makedirs(dir)\n",
    "\n",
    "\n",
    "mkpath = os.path.join"
   ]
  },
  {
   "cell_type": "code",
   "execution_count": 4,
   "metadata": {},
   "outputs": [],
   "source": [
    "mods = dict(\n",
    "    test=dict(name=\"sim-data-test\", los=10),\n",
    "    normal=dict(name=\"sim-data\", los=100)\n",
    "    )\n",
    "\n",
    "\n",
    "version = \"normal\"\n",
    "odir_main, n_los = mods[version].values()\n",
    "\n",
    "\n",
    "\n",
    "odir1 = mkpath(odir_main, \"one\", \"los-data\") \n"
   ]
  },
  {
   "cell_type": "code",
   "execution_count": null,
   "metadata": {},
   "outputs": [],
   "source": [
    "\n",
    "# Delete previous\n",
    "if os.path.isdir(odir_main):\n",
    "    print(\"Deleting folder\")\n",
    "    os.system(f\"rm -r {odir_main}/one\")"
   ]
  },
  {
   "cell_type": "code",
   "execution_count": 4,
   "metadata": {
    "tags": [
     "parameters"
    ]
   },
   "outputs": [],
   "source": [
    "############################################################\n",
    "# selected frequencies\n",
    "sels = np.array([\n",
    "    3, 4, 10, 11, 12, 13, 14, 15, 16, 17, 18, 19, 20, 42, 43,\n",
    "    44, 45, 46, 47, 48, 49, 50, 51, 52, 53, 54, 55, 60, 72, 73])\n",
    "\n",
    "nans = np.array([_ for _ in range(80) if _ not in sels])\n",
    "\n",
    "freqs = np.linspace(861_224_609.375, 1_706_461_914.0625, 80)\n",
    "f0 = freqs[0]\n",
    "\n",
    "\n",
    "mask_nf = np.zeros(len(freqs), dtype=bool)\n",
    "mask_f = np.ones(len(freqs), dtype=bool)\n",
    "mask_f[sels] = False\n",
    "\n",
    "\n",
    "############################################################\n",
    "\n",
    "spectral_index = -0.75\n",
    "\n",
    "I0 = 4 #Jy.\n",
    "I = I0 * pow((freqs/f0), spectral_index)\n",
    "\n",
    "# generating some random noise centered around mean 0 and std 2mJy per beam\n",
    "noise_std = 2e-3 #Jy/beam\n",
    "noise_I = np.abs(np.random.normal(0, noise_std, I.size))\n",
    "\n",
    "Iobserved = I + noise_I\n",
    "\n",
    "\n",
    "\n",
    "C = 3e8\n",
    "lam2 = (C/freqs)**2\n"
   ]
  },
  {
   "attachments": {},
   "cell_type": "markdown",
   "metadata": {},
   "source": [
    "# Single component\n"
   ]
  },
  {
   "attachments": {},
   "cell_type": "markdown",
   "metadata": {},
   "source": [
    "#### Generate single component models: vary P, PA, and RM. Use fixed I."
   ]
  },
  {
   "cell_type": "code",
   "execution_count": 5,
   "metadata": {},
   "outputs": [
    {
     "name": "stdout",
     "output_type": "stream",
     "text": [
      "----------\n",
      "Data ready\n"
     ]
    }
   ],
   "source": [
    "mkdir(odir1+\"-f\")\n",
    "mkdir(odir1+\"-nf\")\n",
    "\n",
    "for j in range(n_los):\n",
    "    \n",
    "    # print(f\"Creating data for region: \", j+1)\n",
    "    noise_Q = np.abs(np.random.normal(0, 1e-3, len(freqs)))\n",
    "    noise_U = np.abs(np.random.normal(0, 1e-3, len(freqs)))\n",
    "    \n",
    "       \n",
    "    p0 = np.random.ranf()  # fractional p\n",
    "    RM = np.random.randint(-150, 150) # rad/m^2\n",
    "    PA = np.random.uniform(-np.pi/2.0, np.pi/2.0)\n",
    "\n",
    "    # make sure this sigma RM is not too large because fitting will fail\n",
    "    # i.e if prior is searching for RM btwn 150 and -150, and this val\n",
    "    # hs a max of 200, then the max value will be (350), and you will \n",
    "    # get problems\n",
    "    sig = np.random.uniform(0, 40)\n",
    "\n",
    "    p = p0 *  np.exp(2j * PA) * np.exp(2j * RM * lam2) * np.exp(-2 * sig**2 * lam2**2)\n",
    "    # p = p0 *  np.exp(2j * PA) * np.exp(2j * RM * lam2) * np.exp(-2 * lam2**2)\n",
    "    q = p.real\n",
    "    u = p.imag\n",
    "    \n",
    "    Q = q * Iobserved + noise_Q\n",
    "    U = u * Iobserved + noise_U\n",
    " \n",
    "    s_freqs = freqs[sels]\n",
    "    s_freqs = freqs.compress(~np.isnan(freqs))\n",
    " \n",
    "    #sigma_Q = q * ( (noise_q/q)**2 + (noise_I/Iobserved)**2 )**0.5 \n",
    "    #sigma_U = u * ( (noise_q/u)**2 + (noise_I/Iobserved)**2 )**0.5 \n",
    "\n",
    "    #Q = Q + noise_Q\n",
    "    #U = U + noise_U\n",
    "\n",
    "    data = dict()\n",
    "    data[\"freqs\"] = freqs\n",
    "    data[\"lambda_sq\"] = lam2\n",
    "    data[\"chan_width\"] = freqs\n",
    "    data[\"fpol\"] = fpol(Iobserved, Q, U)\n",
    "    data[\"lpol\"] = lpol(Q, U)\n",
    "\n",
    "\n",
    "    data[\"fpol_err\"] = np.zeros(freqs.size)\n",
    "    data[\"lpol_err\"] = np.zeros(freqs.size)\n",
    "    data[\"noise\"] = np.zeros(freqs.size)\n",
    "    data[\"pangle_err\"] = np.zeros(freqs.size)\n",
    "\n",
    "\n",
    "    data[\"pangle\"] = np.zeros(freqs.size)\n",
    "    data[\"snr\"] = np.zeros(freqs.size)\n",
    "    data[\"psnr\"] = np.zeros(freqs.size)\n",
    "    data[\"mask\"] = np.zeros(freqs.size)\n",
    "\n",
    "    data[\"I\"] = Iobserved\n",
    "    data[\"Q\"] = Q\n",
    "    data[\"U\"] = U\n",
    "    data[\"Q_err\"] = noise_Q\n",
    "    data[\"U_err\"] = noise_U\n",
    "    data[\"I_err\"] = noise_I\n",
    "\n",
    "    # Make my data look alike\n",
    "    data_nf = {k: np.ma.masked_array(data=v, mask=mask_nf).compressed() for k, v in data.items()}\n",
    "\n",
    "    data_f = {k: np.ma.masked_array(data=v, mask=mask_f).compressed() for k, v in data.items()}\n",
    "\n",
    "    data_nf[\"in_rm\"] = RM\n",
    "    data_nf[\"in_pa\"] = PA\n",
    "    data_nf[\"in_p0\"] = p0\n",
    "    data_nf[\"in_sigma_rm\"] = sig\n",
    "\n",
    "    data_f[\"in_rm\"] = RM\n",
    "    data_f[\"in_pa\"] = PA\n",
    "    data_f[\"in_p0\"] = p0\n",
    "    data_f[\"in_sigma_rm\"] = sig\n",
    "    \n",
    "\n",
    "    np.savez(mkpath(odir1+\"-nf\", f\"reg_{j+1}.npz\"), **data_nf)\n",
    "    np.savez(mkpath(odir1+\"-f\", f\"reg_{j+1}.npz\"), **data_f)\n",
    "\n",
    "print(\"----------\")\n",
    "print(\"Data ready\")\n",
    "    \n",
    "# input_param = numpy.vstack((input_p0, input_PA, input_RM, input_dRM))\n",
    "# np.savetxt('MOCK/DDP/INPUT-PARAMETERS.txt', input_param.T)"
   ]
  },
  {
   "cell_type": "code",
   "execution_count": 5,
   "metadata": {},
   "outputs": [
    {
     "name": "stdout",
     "output_type": "stream",
     "text": [
      "run all cells above alone\n"
     ]
    }
   ],
   "source": [
    "# run all cells above alone\n",
    "print(\"run all cells above alone\")"
   ]
  },
  {
   "cell_type": "code",
   "execution_count": 48,
   "metadata": {},
   "outputs": [],
   "source": [
    "# for g in range(1, 4):\n",
    "\n",
    "# g=1\n",
    "# n_flagged = mkpath(odir_main, \"one\", \"qu-fits-nf-single\", f\"qufit-reg_{g}-MODEL.png\")\n",
    "# flagged = mkpath(odir_main, \"one\", \"qu-fits-f-single\", f\"qufit-reg_{g}-MODEL.png\")\n",
    "    \n",
    "# display(HTML(f\"\"\"\n",
    "# <div class=\"row\">\n",
    "#         <img src={n_flagged} style=\"width:40%\"> </img>\n",
    "#         <img src={flagged} style=\"width:40%\"> </img>\n",
    "# </div>\n",
    "# \"\"\"))"
   ]
  },
  {
   "cell_type": "code",
   "execution_count": 6,
   "metadata": {
    "tags": [
     "plots"
    ]
   },
   "outputs": [
    {
     "ename": "NameError",
     "evalue": "name 'Q' is not defined",
     "output_type": "error",
     "traceback": [
      "\u001b[0;31m---------------------------------------------------------------------------\u001b[0m",
      "\u001b[0;31mNameError\u001b[0m                                 Traceback (most recent call last)",
      "Cell \u001b[0;32mIn[6], line 1\u001b[0m\n\u001b[0;32m----> 1\u001b[0m q \u001b[39m=\u001b[39m Q\u001b[39m/\u001b[39mIobserved\n\u001b[1;32m      2\u001b[0m u \u001b[39m=\u001b[39m U\u001b[39m/\u001b[39mIobserved\n\u001b[1;32m      3\u001b[0m P \u001b[39m=\u001b[39m (Q\u001b[39m*\u001b[39m\u001b[39m*\u001b[39m\u001b[39m2\u001b[39m \u001b[39m+\u001b[39m U\u001b[39m*\u001b[39m\u001b[39m*\u001b[39m\u001b[39m2\u001b[39m)\u001b[39m*\u001b[39m\u001b[39m*\u001b[39m\u001b[39m0.5\u001b[39m\n",
      "\u001b[0;31mNameError\u001b[0m: name 'Q' is not defined"
     ]
    },
    {
     "ename": "",
     "evalue": "",
     "output_type": "error",
     "traceback": [
      "\u001b[1;31mThe Kernel crashed while executing code in the the current cell or a previous cell. Please review the code in the cell(s) to identify a possible cause of the failure. Click <a href='https://aka.ms/vscodeJupyterKernelCrash'>here</a> for more info. View Jupyter <a href='command:jupyter.viewOutput'>log</a> for further details."
     ]
    }
   ],
   "source": [
    "q = Q/Iobserved\n",
    "u = U/Iobserved\n",
    "P = (Q**2 + U**2)**0.5\n",
    "q_noise = abs(q * ( (noise_Q/Q)**2 + (noise_I/I)**2 )**0.5)\n",
    "u_noise = abs(u * ( (noise_U/U)**2 + (noise_I/I)**2 )**0.5)\n",
    "\n",
    "# aka polarised noise\n",
    "p_noise = ( (Q/P)**2 * noise_Q**2 + (U/P)**2 * noise_U**2 )**0.5\n",
    "sigma_p = abs(p) * ((p_noise/P)**2 + (noise_I/I)**2 )**0.5\n",
    "sigma_p.max()\n",
    "\n",
    "\n",
    "# plot total intensity without noise, noise distibution and TI with noise\n",
    "\n",
    "plt.close(\"all\")\n",
    "fig, ax = plt.subplots(figsize=(16,9), ncols=3, nrows=2, sharex=False, sharey=False)\n",
    "ax[0,0].errorbar(freqs/1e9, I, yerr=noise_I, fmt='bo', ecolor='r', ms=2)\n",
    "# ax[0,0].set_xscale('log')\n",
    "# ax[0,0].set_yscale('log')\n",
    "ax[0,0].set_ylabel('Total Intensity [Jy pixel$^{-1}$]')\n",
    "ax[0,0].set_xlabel('Frequency [Hz]')\n",
    "# ax[0,0].savefig('MOCK/EXAMPLE-I-MODEL.pdf')\n",
    "\n",
    "\n",
    "\n",
    "ax[0,1].hist(noise_I, bins=100, color='b', alpha=0.5)\n",
    "ax[0,1].set_xlabel('noise in I [Jy pixel$^{-1}$]')\n",
    "ax[0,1].set_ylabel('Count')\n",
    "# ax[0,1].savefig('MOCK/EXAMPLE-I-DISTRIBUTION.pdf')\n",
    "\n",
    "\n",
    "ax[0,2].plot(freqs, Iobserved, 'bo', ms=2)\n",
    "# ax[0,2].set_xscale('log')\n",
    "# ax[0,2].set_yscale('log')\n",
    "ax[0,2].set_ylabel('Total Intensity [Jy beam$^{-1}$]')\n",
    "ax[0,2].set_xlabel('Frequency [Hz]')\n",
    "\n",
    "\n",
    "\n",
    "ax[1,0].errorbar(lam2, q, yerr=q_noise, fmt='ro', ecolor='y', ms=2, label='q')\n",
    "ax[1,0].errorbar(lam2, u, yerr=u_noise, fmt='bo', ecolor='y', ms=2, label='u')\n",
    "ax[1,0].xlabel('Wavelength [m$^{2}$]')\n",
    "ax[1,0].ylabel('Fractional Polarisation')\n",
    "ax[1,0].legend(loc='best')\n",
    "\n",
    "ax[1,1].hist(noise_Q, bins=100, color='c', label='$N_Q$')\n",
    "ax[1,1].hist(noise_U, bins=100, color='pink', label='$N_U$')\n",
    "ax[1,1].xlabel('noise [Jy pixel$^{-1}$]')\n",
    "ax[1,1].ylabel('Count')\n",
    "ax[1,1].tight_layout()\n",
    "ax[1,1].legend(loc='best')\n",
    "\n",
    "# fig.tight_layout()\n",
    "# fig.show()"
   ]
  },
  {
   "cell_type": "code",
   "execution_count": null,
   "metadata": {
    "tags": [
     "testing-fits"
    ]
   },
   "outputs": [],
   "source": [
    "fm, ufm, af, auf = [], [], [], []\n",
    "for i in range(1, n_los+1):\n",
    "\n",
    "    flagged_model = f\"sim-data/one/qu-fits-f-single/qufit-reg_{i}-fitparameters.txt\"\n",
    "    unflagged_model = f\"sim-data/one/qu-fits-nf-single/qufit-reg_{i}-fitparameters.txt\"\n",
    "\n",
    "    actual_f = f\"sim-data/one/los-data-f/reg_{i}.npz\" \n",
    "    actual_nf = f\"sim-data/one/los-data-nf/reg_{i}.npz\"\n",
    "\n",
    "    fm.append(np.loadtxt(flagged_model)[11])\n",
    "    ufm.append(np.loadtxt(unflagged_model)[11])\n",
    "    af.append(np.load(actual_f)[\"in_rm\"])\n",
    "    auf.append(np.load(actual_nf)[\"in_rm\"])\n",
    "\n",
    "fm = np.array(fm)\n",
    "ufm = np.array(ufm)\n",
    "af = np.array(af)\n",
    "auf = np.array(auf)\n",
    "\n",
    "\n",
    "fig, ax = plt.subplots(ncols=2, figsize=(16,6))\n",
    "# ax[0].plot(range(1,101), fm, \"o\", label=\"flagged mod\", linestyle=\"--\")\n",
    "# ax[0].plot(range(1,101), af, \"o\", label=\"actual flagged\")\n",
    "ax[0].plot(range(1,101), af-fm, \"o\", label=\"Actual - model [with flagging]\")\n",
    "ax[0].axhline(0, color=\"k\")\n",
    "ax[0].legend()\n",
    "\n",
    "# ax[1].plot(range(1,101), ufm, \"o\", label=\"unflagged mod\", linestyle=\"--\")\n",
    "# ax[1].plot(range(1,101), auf, \"o\", label=\"actual unflagged\")\n",
    "ax[1].plot(range(1,101), auf-ufm, \"o\", label=\"Actual - model [No flagging]\")\n",
    "ax[1].axhline(0, color=\"k\")\n",
    "ax[1].legend()\n"
   ]
  },
  {
   "cell_type": "code",
   "execution_count": null,
   "metadata": {},
   "outputs": [],
   "source": []
  }
 ],
 "metadata": {
  "kernelspec": {
   "display_name": "qfit",
   "language": "python",
   "name": "python3"
  },
  "language_info": {
   "codemirror_mode": {
    "name": "ipython",
    "version": 3
   },
   "file_extension": ".py",
   "mimetype": "text/x-python",
   "name": "python",
   "nbconvert_exporter": "python",
   "pygments_lexer": "ipython3",
   "version": "3.8.13"
  },
  "vscode": {
   "interpreter": {
    "hash": "ceeac82b25c1752703d4527cdc731d1eee014bb7e9c2538539f4316985f7e520"
   }
  }
 },
 "nbformat": 4,
 "nbformat_minor": 2
}
